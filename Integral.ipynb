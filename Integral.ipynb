{
 "cells": [
  {
   "cell_type": "markdown",
   "source": [
    "# Integral Data Exercise for Senior Data Scientist position\n",
    "Bryan Gonzalez, PhD\n"
   ],
   "metadata": {
    "collapsed": false
   }
  },
  {
   "cell_type": "code",
   "execution_count": 1,
   "metadata": {
    "collapsed": true
   },
   "outputs": [],
   "source": [
    "import pandas as pd\n",
    "import numpy as np\n",
    "import random\n",
    "import string\n",
    "from sklearn.cluster import KMeans\n"
   ]
  },
  {
   "cell_type": "code",
   "execution_count": 7,
   "outputs": [],
   "source": [
    "n_records = 10000\n",
    "dat = {\n",
    "    'first_name': [x + '_' + random.choice(string.ascii_lowercase) for x in [random.choice(['John', 'Jane', 'Alice', 'Bob']) for _ in range(n_records)]], # adding some variability with an extra letter\n",
    "    'last_name': [x + '_' + random.choice(string.ascii_lowercase) for x in [random.choice(['Doe', 'Smith', 'Johnson', 'Brown']) for _ in range(n_records)]], # adding some variability with an extra letter\n",
    "    'zip_code': np.random.randint(10000, 99999, n_records).tolist(),\n",
    "    'age': np.random.randint(18, 99, n_records).tolist(),\n",
    "    'sex': np.random.choice(['M', 'F'], n_records).tolist(),\n",
    "    'hospital_name': np.random.choice(['General Hospital', 'City Hospital', 'Central Clinic', 'County Hospital'], n_records).tolist(),\n",
    "    'lab_result': np.random.randint(60, 110, n_records).tolist(),\n",
    "}\n",
    "bigdata = pd.DataFrame(dat)"
   ],
   "metadata": {
    "collapsed": false
   }
  },
  {
   "cell_type": "code",
   "execution_count": 3,
   "outputs": [
    {
     "data": {
      "text/plain": "    index first_name  last_name  zip_code  age sex     hospital_name  \\\n0      48    Alice_y      Doe_e     16809   65   M   County Hospital   \n1      61     Jane_p    Brown_c     24251   72   F   County Hospital   \n2      42     Jane_e  Johnson_e     23984   77   F    Central Clinic   \n3      87      Bob_b    Brown_z     13190   36   M     City Hospital   \n4      49    Alice_g      Doe_p     28176   76   M     City Hospital   \n5      34     John_s      Doe_c     40159   84   F  General Hospital   \n6      63     John_u    Brown_p     38388   35   F     City Hospital   \n7      26    Alice_k    Smith_h     36306   89   M    Central Clinic   \n8      25      Bob_i    Brown_b     57597   60   F    Central Clinic   \n9      98    Alice_j      Doe_i     52084   76   F   County Hospital   \n10     83     John_m      Doe_e     55569   63   F  General Hospital   \n11     76     Jane_e    Smith_x     59031   38   M  General Hospital   \n12     56     John_s    Brown_f     78055   44   M     City Hospital   \n13     37    Alice_z    Brown_a     69075   26   F   County Hospital   \n14     18      Bob_f    Smith_l     70550   91   M     City Hospital   \n15     58     John_i  Johnson_k     70739   18   M   County Hospital   \n16     45     John_h  Johnson_u     94052   74   M  General Hospital   \n17     21     Jane_m      Doe_u     81351   91   F     City Hospital   \n18     22     Jane_o    Smith_l     98865   79   M  General Hospital   \n19     91     John_r    Brown_p     99623   54   F  General Hospital   \n\n    lab_result  \n0          101  \n1           64  \n2           87  \n3           64  \n4          105  \n5           73  \n6           66  \n7           93  \n8           71  \n9           96  \n10         105  \n11          63  \n12          91  \n13          73  \n14          65  \n15         103  \n16          81  \n17          68  \n18          62  \n19          67  ",
      "text/html": "<div>\n<style scoped>\n    .dataframe tbody tr th:only-of-type {\n        vertical-align: middle;\n    }\n\n    .dataframe tbody tr th {\n        vertical-align: top;\n    }\n\n    .dataframe thead th {\n        text-align: right;\n    }\n</style>\n<table border=\"1\" class=\"dataframe\">\n  <thead>\n    <tr style=\"text-align: right;\">\n      <th></th>\n      <th>index</th>\n      <th>first_name</th>\n      <th>last_name</th>\n      <th>zip_code</th>\n      <th>age</th>\n      <th>sex</th>\n      <th>hospital_name</th>\n      <th>lab_result</th>\n    </tr>\n  </thead>\n  <tbody>\n    <tr>\n      <th>0</th>\n      <td>48</td>\n      <td>Alice_y</td>\n      <td>Doe_e</td>\n      <td>16809</td>\n      <td>65</td>\n      <td>M</td>\n      <td>County Hospital</td>\n      <td>101</td>\n    </tr>\n    <tr>\n      <th>1</th>\n      <td>61</td>\n      <td>Jane_p</td>\n      <td>Brown_c</td>\n      <td>24251</td>\n      <td>72</td>\n      <td>F</td>\n      <td>County Hospital</td>\n      <td>64</td>\n    </tr>\n    <tr>\n      <th>2</th>\n      <td>42</td>\n      <td>Jane_e</td>\n      <td>Johnson_e</td>\n      <td>23984</td>\n      <td>77</td>\n      <td>F</td>\n      <td>Central Clinic</td>\n      <td>87</td>\n    </tr>\n    <tr>\n      <th>3</th>\n      <td>87</td>\n      <td>Bob_b</td>\n      <td>Brown_z</td>\n      <td>13190</td>\n      <td>36</td>\n      <td>M</td>\n      <td>City Hospital</td>\n      <td>64</td>\n    </tr>\n    <tr>\n      <th>4</th>\n      <td>49</td>\n      <td>Alice_g</td>\n      <td>Doe_p</td>\n      <td>28176</td>\n      <td>76</td>\n      <td>M</td>\n      <td>City Hospital</td>\n      <td>105</td>\n    </tr>\n    <tr>\n      <th>5</th>\n      <td>34</td>\n      <td>John_s</td>\n      <td>Doe_c</td>\n      <td>40159</td>\n      <td>84</td>\n      <td>F</td>\n      <td>General Hospital</td>\n      <td>73</td>\n    </tr>\n    <tr>\n      <th>6</th>\n      <td>63</td>\n      <td>John_u</td>\n      <td>Brown_p</td>\n      <td>38388</td>\n      <td>35</td>\n      <td>F</td>\n      <td>City Hospital</td>\n      <td>66</td>\n    </tr>\n    <tr>\n      <th>7</th>\n      <td>26</td>\n      <td>Alice_k</td>\n      <td>Smith_h</td>\n      <td>36306</td>\n      <td>89</td>\n      <td>M</td>\n      <td>Central Clinic</td>\n      <td>93</td>\n    </tr>\n    <tr>\n      <th>8</th>\n      <td>25</td>\n      <td>Bob_i</td>\n      <td>Brown_b</td>\n      <td>57597</td>\n      <td>60</td>\n      <td>F</td>\n      <td>Central Clinic</td>\n      <td>71</td>\n    </tr>\n    <tr>\n      <th>9</th>\n      <td>98</td>\n      <td>Alice_j</td>\n      <td>Doe_i</td>\n      <td>52084</td>\n      <td>76</td>\n      <td>F</td>\n      <td>County Hospital</td>\n      <td>96</td>\n    </tr>\n    <tr>\n      <th>10</th>\n      <td>83</td>\n      <td>John_m</td>\n      <td>Doe_e</td>\n      <td>55569</td>\n      <td>63</td>\n      <td>F</td>\n      <td>General Hospital</td>\n      <td>105</td>\n    </tr>\n    <tr>\n      <th>11</th>\n      <td>76</td>\n      <td>Jane_e</td>\n      <td>Smith_x</td>\n      <td>59031</td>\n      <td>38</td>\n      <td>M</td>\n      <td>General Hospital</td>\n      <td>63</td>\n    </tr>\n    <tr>\n      <th>12</th>\n      <td>56</td>\n      <td>John_s</td>\n      <td>Brown_f</td>\n      <td>78055</td>\n      <td>44</td>\n      <td>M</td>\n      <td>City Hospital</td>\n      <td>91</td>\n    </tr>\n    <tr>\n      <th>13</th>\n      <td>37</td>\n      <td>Alice_z</td>\n      <td>Brown_a</td>\n      <td>69075</td>\n      <td>26</td>\n      <td>F</td>\n      <td>County Hospital</td>\n      <td>73</td>\n    </tr>\n    <tr>\n      <th>14</th>\n      <td>18</td>\n      <td>Bob_f</td>\n      <td>Smith_l</td>\n      <td>70550</td>\n      <td>91</td>\n      <td>M</td>\n      <td>City Hospital</td>\n      <td>65</td>\n    </tr>\n    <tr>\n      <th>15</th>\n      <td>58</td>\n      <td>John_i</td>\n      <td>Johnson_k</td>\n      <td>70739</td>\n      <td>18</td>\n      <td>M</td>\n      <td>County Hospital</td>\n      <td>103</td>\n    </tr>\n    <tr>\n      <th>16</th>\n      <td>45</td>\n      <td>John_h</td>\n      <td>Johnson_u</td>\n      <td>94052</td>\n      <td>74</td>\n      <td>M</td>\n      <td>General Hospital</td>\n      <td>81</td>\n    </tr>\n    <tr>\n      <th>17</th>\n      <td>21</td>\n      <td>Jane_m</td>\n      <td>Doe_u</td>\n      <td>81351</td>\n      <td>91</td>\n      <td>F</td>\n      <td>City Hospital</td>\n      <td>68</td>\n    </tr>\n    <tr>\n      <th>18</th>\n      <td>22</td>\n      <td>Jane_o</td>\n      <td>Smith_l</td>\n      <td>98865</td>\n      <td>79</td>\n      <td>M</td>\n      <td>General Hospital</td>\n      <td>62</td>\n    </tr>\n    <tr>\n      <th>19</th>\n      <td>91</td>\n      <td>John_r</td>\n      <td>Brown_p</td>\n      <td>99623</td>\n      <td>54</td>\n      <td>F</td>\n      <td>General Hospital</td>\n      <td>67</td>\n    </tr>\n  </tbody>\n</table>\n</div>"
     },
     "execution_count": 3,
     "metadata": {},
     "output_type": "execute_result"
    }
   ],
   "source": [
    "target =  'zip_code'\n",
    "size = .2\n",
    "nbins = 5\n",
    "strata = pd.qcut(bigdata[target], q=nbins, duplicates='drop', labels=False)\n",
    "sampsize = n_records * .2\n",
    "#xx =int(np.rint(sampsize*len(x)/n_records))\n",
    "xx = bigdata.groupby(strata, group_keys=False).apply(lambda x: x.sample(int(np.rint(sampsize*len(x)/n_records)))).reset_index()\n",
    "xx#['hospital_name'].value_counts(True).round(2)"
   ],
   "metadata": {
    "collapsed": false
   }
  },
  {
   "cell_type": "code",
   "execution_count": null,
   "outputs": [],
   "source": [
    "n_clusters = 4\n",
    "target_col = 'age'\n",
    "size = .2\n",
    "\n",
    "X = bigdata[target_col].dropna()\n",
    "kmeans = KMeans(n_clusters=n_clusters).fit(X)\n",
    "bigdata['cluster'] = kmeans.predict(bigdata[[target_col]])\n",
    "# Calculate size of each cluster\n",
    "cluster_sizes = bigdata.groupby('cluster').size()\n",
    "\n",
    "# Calculate proportion of samples to take from each cluster\n",
    "proportions = cluster_sizes / len(n_records)"
   ],
   "metadata": {
    "collapsed": false
   }
  },
  {
   "cell_type": "code",
   "execution_count": 23,
   "outputs": [],
   "source": [
    "class ClinicalData:\n",
    "    '''\n",
    "    Clinical Data Class\n",
    "\n",
    "    Attributes:\n",
    "        data: pd Dataframe, full dataset\n",
    "        n_records:\n",
    "        sample: pd Dataframe\n",
    "    '''\n",
    "    def __init__(self, data):\n",
    "        self.data = data.drop_duplicates()\n",
    "        self.n_records = len(self.data)\n",
    "        self.sample = None\n",
    "        self.sample_method = None\n",
    "        self.k_anon = None\n",
    "\n",
    "        return\n",
    "\n",
    "    def randomSample(self, size=.2):\n",
    "        self.sample = self.data.sample(frac=size)\n",
    "        self.sample_method = 'random'\n",
    "        print(f'{size *100} % of dataset sampled randomly')\n",
    "        return\n",
    "\n",
    "    def stratifiedSample(self, target_col, nbins=2, size=.2):\n",
    "        \"\"\"\n",
    "         Perform stratified sampling on a pandas DataFrame based on a target column,\n",
    "         sampling the data and using a specified number of strata.\n",
    "\n",
    "        df: pandas DataFrame to sample from\n",
    "        target_col: column to use for stratification\n",
    "        nbins: number of strata to use\n",
    "        size: float, % of total data to sample\n",
    "        \"\"\"\n",
    "        if self.data[target_col].dtype == 'object': # stratification based on discrete variable\n",
    "            strata = self.data[target_col]\n",
    "        else: #stratification based on continuous variable\n",
    "            strata = pd.qcut(self.data[target_col], q=nbins, duplicates='drop', labels=False)\n",
    "        sampsize= self.n_records * size\n",
    "        self.sample = self.data.groupby(strata, group_keys=False).apply(lambda x: x.sample(int(np.rint(sampsize*len(x)/n_records)))).reset_index(drop=True)\n",
    "        self.sample_method = 'stratified_'+ target_col\n",
    "        print(f'{size *100} % of dataset sampled with stratification by {target_col} into {nbins} levels. ')\n",
    "        return\n",
    "\n",
    "    def clusterSample(self, n_clusters, target_col, size=.2):\n",
    "        \"\"\"\n",
    "        Perform clustered sampling on a pandas DataFrame based on a target column.\n",
    "        df: pandas DataFrame to sample from\n",
    "        num_clusters: number of clusters to use\n",
    "        target_col: column to use for clustering\n",
    "        size: float. % of total data to sample\n",
    "        \"\"\"\n",
    "        # Fit KMeans clustering model\n",
    "        X = self.data[[target_col]].dropna()\n",
    "        kmeans = KMeans(n_clusters=n_clusters).fit(X)\n",
    "\n",
    "        # Assign cluster labels to data\n",
    "        self.data['cluster'] = kmeans.predict(self.data[[target_col]])\n",
    "\n",
    "        # Calculate size of each cluster\n",
    "        cluster_sizes = self.data.groupby('cluster').size()\n",
    "\n",
    "        # Calculate proportion of samples to take from each cluster\n",
    "        proportions = cluster_sizes / self.n_records\n",
    "\n",
    "        # Sample from each cluster\n",
    "        sampled_rows = []\n",
    "        sample_size = self.n_records * size\n",
    "        for cluster, proportion in proportions.items():\n",
    "            cluster_size = int(proportion * sample_size)\n",
    "            cluster_df = self.data[self.data['cluster'] == cluster]\n",
    "            sampled_rows.append(cluster_df.sample(n=cluster_size))\n",
    "\n",
    "        # Combine sampled rows into final DataFrame\n",
    "        sampled_df = pd.concat(sampled_rows)\n",
    "\n",
    "        # Remove cluster label column\n",
    "        self.sample = sampled_df.drop('cluster', axis=1)\n",
    "        self.data.drop('cluster', axis=1, inplace=True)\n",
    "        self.sample_method = 'cluster_'+ target_col\n",
    "        print(f'{size *100} % of dataset sampled with clustering over {target_col} into {n_clusters} clusters. ')\n",
    "        return\n",
    "\n",
    "    def k_anonymity(self, cols=['zip_code', 'age']):\n",
    "        if self.sample_method is not None:\n",
    "            grouped = self.sample.groupby(cols).size().reset_index(name='count')\n",
    "            n = 'sampled'\n",
    "        else:\n",
    "            grouped = self.data.groupby(cols).size().reset_index(name='count')\n",
    "            n = 'full'\n",
    "        self.k_anon = grouped['count'].min()\n",
    "        return print(f'K Anonymity of {n} data is :{self.k_anon}')"
   ],
   "metadata": {
    "collapsed": false
   }
  },
  {
   "cell_type": "markdown",
   "source": [
    "## 1. K-Anonymity with Random Sampling"
   ],
   "metadata": {
    "collapsed": false
   }
  },
  {
   "cell_type": "code",
   "execution_count": 27,
   "outputs": [
    {
     "name": "stdout",
     "output_type": "stream",
     "text": [
      "20.0 % of dataset sampled randomly\n",
      "K Anonymity of sampled data is :1\n"
     ]
    }
   ],
   "source": [
    "cd = ClinicalData(bigdata)\n",
    "cd.randomSample( size=.2)\n",
    "cd.k_anonymity()"
   ],
   "metadata": {
    "collapsed": false
   }
  },
  {
   "cell_type": "markdown",
   "source": [
    "## 2. K-Anonymity with Stratified Sampling by Age\n"
   ],
   "metadata": {
    "collapsed": false
   }
  },
  {
   "cell_type": "code",
   "execution_count": 25,
   "outputs": [
    {
     "name": "stdout",
     "output_type": "stream",
     "text": [
      "20.0 % of dataset sampled with stratification by age into 5 levels. \n",
      "K Anonymity of sampled data is :1\n"
     ]
    }
   ],
   "source": [
    "cd = ClinicalData(bigdata)\n",
    "cd.stratifiedSample(target_col='age', size=.2, nbins=5)\n",
    "cd.k_anonymity()"
   ],
   "metadata": {
    "collapsed": false
   }
  },
  {
   "cell_type": "markdown",
   "source": [
    "## 3. K-Anonymity with Cluster Sampling by Zip code\n"
   ],
   "metadata": {
    "collapsed": false
   }
  },
  {
   "cell_type": "code",
   "execution_count": 26,
   "outputs": [
    {
     "name": "stdout",
     "output_type": "stream",
     "text": [
      "20.0 % of dataset sampled with clustering over zip_code into 10 clusters. \n",
      "K Anonymity of sampled data is :1\n"
     ]
    }
   ],
   "source": [
    "cd = ClinicalData(bigdata)\n",
    "cd.clusterSample(target_col='zip_code', n_clusters=10,  size=.2)\n",
    "cd.k_anonymity()"
   ],
   "metadata": {
    "collapsed": false
   }
  },
  {
   "cell_type": "code",
   "execution_count": null,
   "outputs": [],
   "source": [],
   "metadata": {
    "collapsed": false
   }
  }
 ],
 "metadata": {
  "kernelspec": {
   "display_name": "Python 3",
   "language": "python",
   "name": "python3"
  },
  "language_info": {
   "codemirror_mode": {
    "name": "ipython",
    "version": 2
   },
   "file_extension": ".py",
   "mimetype": "text/x-python",
   "name": "python",
   "nbconvert_exporter": "python",
   "pygments_lexer": "ipython2",
   "version": "2.7.6"
  }
 },
 "nbformat": 4,
 "nbformat_minor": 0
}
