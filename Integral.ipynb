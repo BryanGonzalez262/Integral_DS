{
 "cells": [
  {
   "cell_type": "markdown",
   "source": [
    "# Integral Data Exercise for Senior Data Scientist position\n",
    "Bryan Gonzalez, PhD\n"
   ],
   "metadata": {
    "collapsed": false
   }
  },
  {
   "cell_type": "code",
   "execution_count": 1,
   "metadata": {
    "collapsed": true
   },
   "outputs": [],
   "source": [
    "import pandas as pd\n",
    "import numpy as np\n",
    "import random\n",
    "import string\n",
    "from sklearn.cluster import KMeans\n"
   ]
  },
  {
   "cell_type": "markdown",
   "source": [
    "## Simulate \"Big\" Data"
   ],
   "metadata": {
    "collapsed": false
   }
  },
  {
   "cell_type": "code",
   "execution_count": 7,
   "outputs": [],
   "source": [
    "n_records = 10000\n",
    "dat = {\n",
    "    'first_name': [x + '_' + random.choice(string.ascii_lowercase) for x in [random.choice(['John', 'Jane', 'Alice', 'Bob']) for _ in range(n_records)]], # adding some variability with an extra letter\n",
    "    'last_name': [x + '_' + random.choice(string.ascii_lowercase) for x in [random.choice(['Doe', 'Smith', 'Johnson', 'Brown']) for _ in range(n_records)]], # adding some variability with an extra letter\n",
    "    'zip_code': np.random.randint(10000, 99999, n_records).tolist(),\n",
    "    'age': np.random.randint(18, 99, n_records).tolist(),\n",
    "    'sex': np.random.choice(['M', 'F'], n_records).tolist(),\n",
    "    'hospital_name': np.random.choice(['General Hospital', 'City Hospital', 'Central Clinic', 'County Hospital'], n_records).tolist(),\n",
    "    'lab_result': np.random.randint(60, 110, n_records).tolist(),\n",
    "}\n",
    "bigdata = pd.DataFrame(dat)"
   ],
   "metadata": {
    "collapsed": false
   }
  },
  {
   "cell_type": "markdown",
   "source": [
    "# Clinical Data Class for sampling"
   ],
   "metadata": {
    "collapsed": false
   }
  },
  {
   "cell_type": "code",
   "execution_count": 23,
   "outputs": [],
   "source": [
    "class ClinicalData:\n",
    "    '''\n",
    "    Clinical Data Class\n",
    "\n",
    "    Attributes:\n",
    "        data: pd Dataframe, full dataset\n",
    "        n_records:\n",
    "        sample: pd Dataframe\n",
    "\n",
    "    Methods:\n",
    "        3 samplings methods:\n",
    "\n",
    "        randomSample()\n",
    "        stratifiedSample()\n",
    "        clusterSample()\n",
    "    '''\n",
    "    def __init__(self, data):\n",
    "        self.data = data.drop_duplicates()\n",
    "        self.n_records = len(self.data)\n",
    "        self.sample = None\n",
    "        self.sample_method = None\n",
    "        self.k_anon = None\n",
    "\n",
    "        return\n",
    "\n",
    "    def randomSample(self, size=.2):\n",
    "        self.sample = self.data.sample(frac=size)\n",
    "        self.sample_method = 'random'\n",
    "        print(f'{size *100} % of dataset sampled randomly')\n",
    "        return\n",
    "\n",
    "    def stratifiedSample(self, target_col, nbins=2, size=.2):\n",
    "        \"\"\"\n",
    "         Perform stratified sampling on a pandas DataFrame based on a target column,\n",
    "         sampling the data and using a specified number of strata.\n",
    "\n",
    "        df: pandas DataFrame to sample from\n",
    "        target_col: column to use for stratification\n",
    "        nbins: number of strata to use\n",
    "        size: float, % of total data to sample\n",
    "        \"\"\"\n",
    "        if self.data[target_col].dtype == 'object': # stratification based on discrete variable\n",
    "            strata = self.data[target_col]\n",
    "        else: #stratification based on continuous variable\n",
    "            strata = pd.qcut(self.data[target_col], q=nbins, duplicates='drop', labels=False)\n",
    "        sampsize= self.n_records * size\n",
    "        self.sample = self.data.groupby(strata, group_keys=False).apply(lambda x: x.sample(int(np.rint(sampsize*len(x)/n_records)))).reset_index(drop=True)\n",
    "        self.sample_method = 'stratified_'+ target_col\n",
    "        print(f'{size *100} % of dataset sampled with stratification by {target_col} into {nbins} levels. ')\n",
    "        return\n",
    "\n",
    "    def clusterSample(self, n_clusters, target_col, size=.2):\n",
    "        \"\"\"\n",
    "        Perform clustered sampling on a pandas DataFrame based on a target column.\n",
    "        df: pandas DataFrame to sample from\n",
    "        num_clusters: number of clusters to use\n",
    "        target_col: column to use for clustering\n",
    "        size: float. % of total data to sample\n",
    "        \"\"\"\n",
    "        # Fit KMeans clustering model\n",
    "        X = self.data[[target_col]].dropna()\n",
    "        kmeans = KMeans(n_clusters=n_clusters).fit(X)\n",
    "\n",
    "        # Assign cluster labels to data\n",
    "        self.data['cluster'] = kmeans.predict(self.data[[target_col]])\n",
    "\n",
    "        # Calculate size of each cluster\n",
    "        cluster_sizes = self.data.groupby('cluster').size()\n",
    "\n",
    "        # Calculate proportion of samples to take from each cluster\n",
    "        proportions = cluster_sizes / self.n_records\n",
    "\n",
    "        # Sample from each cluster\n",
    "        sampled_rows = []\n",
    "        sample_size = self.n_records * size\n",
    "        for cluster, proportion in proportions.items():\n",
    "            cluster_size = int(proportion * sample_size)\n",
    "            cluster_df = self.data[self.data['cluster'] == cluster]\n",
    "            sampled_rows.append(cluster_df.sample(n=cluster_size))\n",
    "\n",
    "        # Combine sampled rows into final DataFrame\n",
    "        sampled_df = pd.concat(sampled_rows)\n",
    "\n",
    "        # Remove cluster label column\n",
    "        self.sample = sampled_df.drop('cluster', axis=1)\n",
    "        self.data.drop('cluster', axis=1, inplace=True)\n",
    "        self.sample_method = 'cluster_'+ target_col\n",
    "        print(f'{size *100} % of dataset sampled with clustering over {target_col} into {n_clusters} clusters. ')\n",
    "        return\n",
    "\n",
    "    def k_anonymity(self, cols=['zip_code', 'age']):\n",
    "        if self.sample_method is not None:\n",
    "            grouped = self.sample.groupby(cols).size().reset_index(name='count')\n",
    "            n = 'sampled'\n",
    "        else:\n",
    "            grouped = self.data.groupby(cols).size().reset_index(name='count')\n",
    "            n = 'full'\n",
    "        self.k_anon = grouped['count'].min()\n",
    "        return print(f'K Anonymity of {n} data is :{self.k_anon}')"
   ],
   "metadata": {
    "collapsed": false
   }
  },
  {
   "cell_type": "markdown",
   "source": [
    "## 1. K-Anonymity with Random Sampling"
   ],
   "metadata": {
    "collapsed": false
   }
  },
  {
   "cell_type": "code",
   "execution_count": 27,
   "outputs": [
    {
     "name": "stdout",
     "output_type": "stream",
     "text": [
      "20.0 % of dataset sampled randomly\n",
      "K Anonymity of sampled data is :1\n"
     ]
    }
   ],
   "source": [
    "cd = ClinicalData(bigdata)\n",
    "cd.randomSample( size=.2)\n",
    "cd.k_anonymity()"
   ],
   "metadata": {
    "collapsed": false
   }
  },
  {
   "cell_type": "markdown",
   "source": [
    "## 2. K-Anonymity with Stratified Sampling by Age\n"
   ],
   "metadata": {
    "collapsed": false
   }
  },
  {
   "cell_type": "code",
   "execution_count": 25,
   "outputs": [
    {
     "name": "stdout",
     "output_type": "stream",
     "text": [
      "20.0 % of dataset sampled with stratification by age into 5 levels. \n",
      "K Anonymity of sampled data is :1\n"
     ]
    }
   ],
   "source": [
    "cd = ClinicalData(bigdata)\n",
    "cd.stratifiedSample(target_col='age', size=.2, nbins=5)\n",
    "cd.k_anonymity()"
   ],
   "metadata": {
    "collapsed": false
   }
  },
  {
   "cell_type": "markdown",
   "source": [
    "## 3. K-Anonymity with Cluster Sampling by Zip code\n"
   ],
   "metadata": {
    "collapsed": false
   }
  },
  {
   "cell_type": "code",
   "execution_count": 26,
   "outputs": [
    {
     "name": "stdout",
     "output_type": "stream",
     "text": [
      "20.0 % of dataset sampled with clustering over zip_code into 10 clusters. \n",
      "K Anonymity of sampled data is :1\n"
     ]
    }
   ],
   "source": [
    "cd = ClinicalData(bigdata)\n",
    "cd.clusterSample(target_col='zip_code', n_clusters=10,  size=.2)\n",
    "cd.k_anonymity()"
   ],
   "metadata": {
    "collapsed": false
   }
  },
  {
   "cell_type": "code",
   "execution_count": null,
   "outputs": [],
   "source": [],
   "metadata": {
    "collapsed": false
   }
  }
 ],
 "metadata": {
  "kernelspec": {
   "display_name": "Python 3",
   "language": "python",
   "name": "python3"
  },
  "language_info": {
   "codemirror_mode": {
    "name": "ipython",
    "version": 2
   },
   "file_extension": ".py",
   "mimetype": "text/x-python",
   "name": "python",
   "nbconvert_exporter": "python",
   "pygments_lexer": "ipython2",
   "version": "2.7.6"
  }
 },
 "nbformat": 4,
 "nbformat_minor": 0
}
